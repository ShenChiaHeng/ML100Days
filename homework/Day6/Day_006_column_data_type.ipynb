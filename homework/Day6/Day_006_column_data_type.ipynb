{
 "cells": [
  {
   "cell_type": "markdown",
   "metadata": {},
   "source": [
    "# [教學目標]\n",
    "- 知道 DataFrame 如何檢視欄位的型態數量以及各欄型態, 以及 Label Encoding / One Hot Encoding 如何寫?"
   ]
  },
  {
   "cell_type": "markdown",
   "metadata": {},
   "source": [
    "# [範例重點]\n",
    "- 檢視 DataFrame 的資料型態 (In[3], In[4])\n",
    "- 了解 Label Encoding 如何寫 (In[6])\n",
    "- 了解 One Hot Encoding 如何寫 (In[7])"
   ]
  },
  {
   "cell_type": "code",
   "execution_count": 1,
   "metadata": {
    "colab": {},
    "colab_type": "code",
    "id": "lh9gyloHVblR"
   },
   "outputs": [],
   "source": [
    "import os\n",
    "import numpy as np\n",
    "import pandas as pd"
   ]
  },
  {
   "cell_type": "code",
   "execution_count": 2,
   "metadata": {
    "colab": {},
    "colab_type": "code",
    "id": "z4iLB9cKVblV"
   },
   "outputs": [],
   "source": [
    "# 設定 data_path\n",
    "# dir_data = 'D:\\ML100Days\\ML100Days\\homework\\Day4\\TestData'\n",
    "# f_app_train = os.path.join(dir_data, 'application_train.csv')\n",
    "# f_app_test = os.path.join(dir_data, 'application_test.csv')\n",
    "\n",
    "# app_train = pd.read_csv(f_app_train)\n",
    "# app_test = pd.read_csv(f_app_test)\n",
    "\n",
    "\n",
    "#設定 data_path\n",
    "dir_data = \"D:\\ML100Days\\ML100Days\\homework\\Day4\\TestData\"\n",
    "f_app_train = os.path.join(dir_data, \"application_train.csv\")\n",
    "f_app_test = os.path.join(dir_data, \"application_train.csv\")\n",
    "\n",
    "app_train = pd.read_csv(f_app_train)\n",
    "app_test = pd.read_csv(f_app_test)"
   ]
  },
  {
   "cell_type": "markdown",
   "metadata": {
    "colab_type": "text",
    "id": "-LNS2pOoVblX"
   },
   "source": [
    "檢視資料中各個欄位類型的數量"
   ]
  },
  {
   "cell_type": "code",
   "execution_count": 3,
   "metadata": {
    "colab": {},
    "colab_type": "code",
    "id": "NvxV5-OzVblX",
    "outputId": "9bf04bf8-6e24-408a-d441-73caf888623b"
   },
   "outputs": [
    {
     "name": "stdout",
     "output_type": "stream",
     "text": [
      "SK_ID_CURR                      int64\n",
      "TARGET                          int64\n",
      "NAME_CONTRACT_TYPE             object\n",
      "CODE_GENDER                    object\n",
      "FLAG_OWN_CAR                   object\n",
      "                               ...   \n",
      "AMT_REQ_CREDIT_BUREAU_DAY     float64\n",
      "AMT_REQ_CREDIT_BUREAU_WEEK    float64\n",
      "AMT_REQ_CREDIT_BUREAU_MON     float64\n",
      "AMT_REQ_CREDIT_BUREAU_QRT     float64\n",
      "AMT_REQ_CREDIT_BUREAU_YEAR    float64\n",
      "Length: 122, dtype: object\n",
      "-----------------------------\n",
      "[dtype('int64') dtype('int64') dtype('O') dtype('O') dtype('O') dtype('O')\n",
      " dtype('int64') dtype('float64') dtype('float64') dtype('float64')\n",
      " dtype('float64') dtype('O') dtype('O') dtype('O') dtype('O') dtype('O')\n",
      " dtype('float64') dtype('int64') dtype('int64') dtype('float64')\n",
      " dtype('int64') dtype('float64') dtype('int64') dtype('int64')\n",
      " dtype('int64') dtype('int64') dtype('int64') dtype('int64') dtype('O')\n",
      " dtype('float64') dtype('int64') dtype('int64') dtype('O') dtype('int64')\n",
      " dtype('int64') dtype('int64') dtype('int64') dtype('int64')\n",
      " dtype('int64') dtype('int64') dtype('O') dtype('float64')\n",
      " dtype('float64') dtype('float64') dtype('float64') dtype('float64')\n",
      " dtype('float64') dtype('float64') dtype('float64') dtype('float64')\n",
      " dtype('float64') dtype('float64') dtype('float64') dtype('float64')\n",
      " dtype('float64') dtype('float64') dtype('float64') dtype('float64')\n",
      " dtype('float64') dtype('float64') dtype('float64') dtype('float64')\n",
      " dtype('float64') dtype('float64') dtype('float64') dtype('float64')\n",
      " dtype('float64') dtype('float64') dtype('float64') dtype('float64')\n",
      " dtype('float64') dtype('float64') dtype('float64') dtype('float64')\n",
      " dtype('float64') dtype('float64') dtype('float64') dtype('float64')\n",
      " dtype('float64') dtype('float64') dtype('float64') dtype('float64')\n",
      " dtype('float64') dtype('float64') dtype('float64') dtype('float64')\n",
      " dtype('O') dtype('O') dtype('float64') dtype('O') dtype('O')\n",
      " dtype('float64') dtype('float64') dtype('float64') dtype('float64')\n",
      " dtype('float64') dtype('int64') dtype('int64') dtype('int64')\n",
      " dtype('int64') dtype('int64') dtype('int64') dtype('int64')\n",
      " dtype('int64') dtype('int64') dtype('int64') dtype('int64')\n",
      " dtype('int64') dtype('int64') dtype('int64') dtype('int64')\n",
      " dtype('int64') dtype('int64') dtype('int64') dtype('int64')\n",
      " dtype('int64') dtype('float64') dtype('float64') dtype('float64')\n",
      " dtype('float64') dtype('float64') dtype('float64')]\n",
      "------------------------------\n",
      "float64    65\n",
      "int64      41\n",
      "object     16\n",
      "dtype: int64\n"
     ]
    }
   ],
   "source": [
    "# app_train.dtypes.value_counts()\n",
    "\n",
    "print(app_train.dtypes)\n",
    "print(\"-----------------------------\")\n",
    "print(app_train.dtypes.values)\n",
    "print(\"------------------------------\")\n",
    "print(app_train.dtypes.value_counts())"
   ]
  },
  {
   "cell_type": "markdown",
   "metadata": {
    "colab_type": "text",
    "id": "uzkefhdIVblc"
   },
   "source": [
    "檢視資料中類別型欄位各自類別的數量"
   ]
  },
  {
   "cell_type": "code",
   "execution_count": 9,
   "metadata": {},
   "outputs": [
    {
     "data": {
      "text/html": [
       "<div>\n",
       "<style scoped>\n",
       "    .dataframe tbody tr th:only-of-type {\n",
       "        vertical-align: middle;\n",
       "    }\n",
       "\n",
       "    .dataframe tbody tr th {\n",
       "        vertical-align: top;\n",
       "    }\n",
       "\n",
       "    .dataframe thead th {\n",
       "        text-align: right;\n",
       "    }\n",
       "</style>\n",
       "<table border=\"1\" class=\"dataframe\">\n",
       "  <thead>\n",
       "    <tr style=\"text-align: right;\">\n",
       "      <th></th>\n",
       "      <th>A</th>\n",
       "      <th>B</th>\n",
       "    </tr>\n",
       "  </thead>\n",
       "  <tbody>\n",
       "    <tr>\n",
       "      <th>0</th>\n",
       "      <td>1</td>\n",
       "      <td>1</td>\n",
       "    </tr>\n",
       "    <tr>\n",
       "      <th>1</th>\n",
       "      <td>2</td>\n",
       "      <td>1</td>\n",
       "    </tr>\n",
       "    <tr>\n",
       "      <th>2</th>\n",
       "      <td>3</td>\n",
       "      <td>1</td>\n",
       "    </tr>\n",
       "  </tbody>\n",
       "</table>\n",
       "</div>"
      ],
      "text/plain": [
       "   A  B\n",
       "0  1  1\n",
       "1  2  1\n",
       "2  3  1"
      ]
     },
     "execution_count": 9,
     "metadata": {},
     "output_type": "execute_result"
    }
   ],
   "source": [
    "df = pd.DataFrame({'A': [1, 2, 3], 'B': [1, 1, 1]})\n",
    "df"
   ]
  },
  {
   "cell_type": "code",
   "execution_count": 12,
   "metadata": {},
   "outputs": [
    {
     "data": {
      "text/plain": [
       "A    3\n",
       "B    1\n",
       "dtype: int64"
      ]
     },
     "execution_count": 12,
     "metadata": {},
     "output_type": "execute_result"
    }
   ],
   "source": [
    "df.nunique()\n",
    "\n"
   ]
  },
  {
   "cell_type": "code",
   "execution_count": 13,
   "metadata": {},
   "outputs": [
    {
     "data": {
      "text/plain": [
       "0    1\n",
       "1    2\n",
       "2    2\n",
       "dtype: int64"
      ]
     },
     "execution_count": 13,
     "metadata": {},
     "output_type": "execute_result"
    }
   ],
   "source": [
    "df.nunique(axis=1)"
   ]
  },
  {
   "cell_type": "code",
   "execution_count": 15,
   "metadata": {},
   "outputs": [
    {
     "name": "stdout",
     "output_type": "stream",
     "text": [
      "       NAME_CONTRACT_TYPE CODE_GENDER FLAG_OWN_CAR FLAG_OWN_REALTY  \\\n",
      "0              Cash loans           M            N               Y   \n",
      "1              Cash loans           F            N               N   \n",
      "2         Revolving loans           M            Y               Y   \n",
      "3              Cash loans           F            N               Y   \n",
      "4              Cash loans           M            N               Y   \n",
      "...                   ...         ...          ...             ...   \n",
      "307506         Cash loans           M            N               N   \n",
      "307507         Cash loans           F            N               Y   \n",
      "307508         Cash loans           F            N               Y   \n",
      "307509         Cash loans           F            N               Y   \n",
      "307510         Cash loans           F            N               N   \n",
      "\n",
      "       NAME_TYPE_SUITE      NAME_INCOME_TYPE            NAME_EDUCATION_TYPE  \\\n",
      "0        Unaccompanied               Working  Secondary / secondary special   \n",
      "1               Family         State servant               Higher education   \n",
      "2        Unaccompanied               Working  Secondary / secondary special   \n",
      "3        Unaccompanied               Working  Secondary / secondary special   \n",
      "4        Unaccompanied               Working  Secondary / secondary special   \n",
      "...                ...                   ...                            ...   \n",
      "307506   Unaccompanied               Working  Secondary / secondary special   \n",
      "307507   Unaccompanied             Pensioner  Secondary / secondary special   \n",
      "307508   Unaccompanied               Working               Higher education   \n",
      "307509   Unaccompanied  Commercial associate  Secondary / secondary special   \n",
      "307510   Unaccompanied  Commercial associate               Higher education   \n",
      "\n",
      "          NAME_FAMILY_STATUS  NAME_HOUSING_TYPE OCCUPATION_TYPE  \\\n",
      "0       Single / not married  House / apartment        Laborers   \n",
      "1                    Married  House / apartment      Core staff   \n",
      "2       Single / not married  House / apartment        Laborers   \n",
      "3             Civil marriage  House / apartment        Laborers   \n",
      "4       Single / not married  House / apartment      Core staff   \n",
      "...                      ...                ...             ...   \n",
      "307506             Separated       With parents     Sales staff   \n",
      "307507                 Widow  House / apartment             NaN   \n",
      "307508             Separated  House / apartment        Managers   \n",
      "307509               Married  House / apartment        Laborers   \n",
      "307510               Married  House / apartment        Laborers   \n",
      "\n",
      "       WEEKDAY_APPR_PROCESS_START       ORGANIZATION_TYPE FONDKAPREMONT_MODE  \\\n",
      "0                       WEDNESDAY  Business Entity Type 3   reg oper account   \n",
      "1                          MONDAY                  School   reg oper account   \n",
      "2                          MONDAY              Government                NaN   \n",
      "3                       WEDNESDAY  Business Entity Type 3                NaN   \n",
      "4                        THURSDAY                Religion                NaN   \n",
      "...                           ...                     ...                ...   \n",
      "307506                   THURSDAY                Services   reg oper account   \n",
      "307507                     MONDAY                     XNA   reg oper account   \n",
      "307508                   THURSDAY                  School   reg oper account   \n",
      "307509                  WEDNESDAY  Business Entity Type 1                NaN   \n",
      "307510                   THURSDAY  Business Entity Type 3                NaN   \n",
      "\n",
      "        HOUSETYPE_MODE WALLSMATERIAL_MODE EMERGENCYSTATE_MODE  \n",
      "0       block of flats       Stone, brick                  No  \n",
      "1       block of flats              Block                  No  \n",
      "2                  NaN                NaN                 NaN  \n",
      "3                  NaN                NaN                 NaN  \n",
      "4                  NaN                NaN                 NaN  \n",
      "...                ...                ...                 ...  \n",
      "307506  block of flats       Stone, brick                  No  \n",
      "307507  block of flats       Stone, brick                  No  \n",
      "307508  block of flats              Panel                  No  \n",
      "307509  block of flats       Stone, brick                  No  \n",
      "307510  block of flats              Panel                  No  \n",
      "\n",
      "[307511 rows x 16 columns]\n"
     ]
    }
   ],
   "source": [
    "print(app_train.select_dtypes(include=[\"object\"]))"
   ]
  },
  {
   "cell_type": "code",
   "execution_count": 18,
   "metadata": {},
   "outputs": [
    {
     "name": "stdout",
     "output_type": "stream",
     "text": [
      "SK_ID_CURR                    307511\n",
      "TARGET                             2\n",
      "NAME_CONTRACT_TYPE                 2\n",
      "CODE_GENDER                        3\n",
      "FLAG_OWN_CAR                       2\n",
      "                               ...  \n",
      "AMT_REQ_CREDIT_BUREAU_DAY          9\n",
      "AMT_REQ_CREDIT_BUREAU_WEEK         9\n",
      "AMT_REQ_CREDIT_BUREAU_MON         24\n",
      "AMT_REQ_CREDIT_BUREAU_QRT         11\n",
      "AMT_REQ_CREDIT_BUREAU_YEAR        25\n",
      "Length: 122, dtype: int64\n"
     ]
    }
   ],
   "source": [
    "print(app_train.apply(pd.Series.nunique, axis = 0))"
   ]
  },
  {
   "cell_type": "code",
   "execution_count": 8,
   "metadata": {
    "colab": {},
    "colab_type": "code",
    "id": "Yf16HFmgVblc",
    "outputId": "d0d39d02-1ffb-4238-df40-0e67b0c123b0"
   },
   "outputs": [
    {
     "name": "stdout",
     "output_type": "stream",
     "text": [
      "NAME_CONTRACT_TYPE             2\n",
      "CODE_GENDER                    3\n",
      "FLAG_OWN_CAR                   2\n",
      "FLAG_OWN_REALTY                2\n",
      "NAME_TYPE_SUITE                7\n",
      "NAME_INCOME_TYPE               8\n",
      "NAME_EDUCATION_TYPE            5\n",
      "NAME_FAMILY_STATUS             6\n",
      "NAME_HOUSING_TYPE              6\n",
      "OCCUPATION_TYPE               18\n",
      "WEEKDAY_APPR_PROCESS_START     7\n",
      "ORGANIZATION_TYPE             58\n",
      "FONDKAPREMONT_MODE             4\n",
      "HOUSETYPE_MODE                 3\n",
      "WALLSMATERIAL_MODE             7\n",
      "EMERGENCYSTATE_MODE            2\n",
      "dtype: int64\n",
      "------------------------------\n",
      "SK_ID_CURR                     307511\n",
      "TARGET                              2\n",
      "CNT_CHILDREN                       15\n",
      "DAYS_BIRTH                      17460\n",
      "DAYS_EMPLOYED                   12574\n",
      "DAYS_ID_PUBLISH                  6168\n",
      "FLAG_MOBIL                          2\n",
      "FLAG_EMP_PHONE                      2\n",
      "FLAG_WORK_PHONE                     2\n",
      "FLAG_CONT_MOBILE                    2\n",
      "FLAG_PHONE                          2\n",
      "FLAG_EMAIL                          2\n",
      "REGION_RATING_CLIENT                3\n",
      "REGION_RATING_CLIENT_W_CITY         3\n",
      "HOUR_APPR_PROCESS_START            24\n",
      "REG_REGION_NOT_LIVE_REGION          2\n",
      "REG_REGION_NOT_WORK_REGION          2\n",
      "LIVE_REGION_NOT_WORK_REGION         2\n",
      "REG_CITY_NOT_LIVE_CITY              2\n",
      "REG_CITY_NOT_WORK_CITY              2\n",
      "LIVE_CITY_NOT_WORK_CITY             2\n",
      "FLAG_DOCUMENT_2                     2\n",
      "FLAG_DOCUMENT_3                     2\n",
      "FLAG_DOCUMENT_4                     2\n",
      "FLAG_DOCUMENT_5                     2\n",
      "FLAG_DOCUMENT_6                     2\n",
      "FLAG_DOCUMENT_7                     2\n",
      "FLAG_DOCUMENT_8                     2\n",
      "FLAG_DOCUMENT_9                     2\n",
      "FLAG_DOCUMENT_10                    2\n",
      "FLAG_DOCUMENT_11                    2\n",
      "FLAG_DOCUMENT_12                    2\n",
      "FLAG_DOCUMENT_13                    2\n",
      "FLAG_DOCUMENT_14                    2\n",
      "FLAG_DOCUMENT_15                    2\n",
      "FLAG_DOCUMENT_16                    2\n",
      "FLAG_DOCUMENT_17                    2\n",
      "FLAG_DOCUMENT_18                    2\n",
      "FLAG_DOCUMENT_19                    2\n",
      "FLAG_DOCUMENT_20                    2\n",
      "FLAG_DOCUMENT_21                    2\n",
      "dtype: int64\n"
     ]
    }
   ],
   "source": [
    "print(app_train.select_dtypes(include=[\"object\"]).apply(pd.Series.nunique, axis = 0))\n",
    "print(\"------------------------------\")\n",
    "print(app_train.select_dtypes(include=[\"int64\"]).apply(pd.Series.nunique, axis=0))"
   ]
  },
  {
   "cell_type": "code",
   "execution_count": 23,
   "metadata": {},
   "outputs": [
    {
     "ename": "NameError",
     "evalue": "name 'unique' is not defined",
     "output_type": "error",
     "traceback": [
      "\u001b[1;31m---------------------------------------------------------------------------\u001b[0m",
      "\u001b[1;31mNameError\u001b[0m                                 Traceback (most recent call last)",
      "\u001b[1;32m<ipython-input-23-590d26db2007>\u001b[0m in \u001b[0;36m<module>\u001b[1;34m\u001b[0m\n\u001b[0;32m      1\u001b[0m \u001b[0ma\u001b[0m\u001b[1;33m=\u001b[0m\u001b[1;33m[\u001b[0m\u001b[1;36m1\u001b[0m \u001b[1;33m,\u001b[0m\u001b[1;36m2\u001b[0m \u001b[1;33m,\u001b[0m\u001b[1;36m3\u001b[0m\u001b[1;33m]\u001b[0m\u001b[1;33m\u001b[0m\u001b[1;33m\u001b[0m\u001b[0m\n\u001b[1;32m----> 2\u001b[1;33m \u001b[0munique\u001b[0m\u001b[1;33m(\u001b[0m\u001b[0ma\u001b[0m\u001b[1;33m)\u001b[0m\u001b[1;33m\u001b[0m\u001b[1;33m\u001b[0m\u001b[0m\n\u001b[0m",
      "\u001b[1;31mNameError\u001b[0m: name 'unique' is not defined"
     ]
    }
   ],
   "source": [
    "a=[1 ,2 ,3]\n",
    "unique(a)"
   ]
  },
  {
   "cell_type": "markdown",
   "metadata": {
    "colab_type": "text",
    "id": "P7RU9oyvVblg"
   },
   "source": [
    "#### Label encoding\n",
    "有仔細閱讀[參考資料](https://medium.com/@contactsunny/label-encoder-vs-one-hot-encoder-in-machine-learning-3fc273365621)的人可以發現，Label encoding 的表示方式會讓同一個欄位底下的類別之間有大小關係 (0<1<2<...)，所以在這裡我們只對有類別數量小於等於 2 的類別型欄位示範使用 Label encoding，但不表示這樣處理是最好的，一切取決於欄位本身的意義適合哪一種表示方法"
   ]
  },
  {
   "cell_type": "code",
   "execution_count": 19,
   "metadata": {
    "colab": {},
    "colab_type": "code",
    "id": "mmvKPGtgVblg"
   },
   "outputs": [],
   "source": [
    "from sklearn.preprocessing import LabelEncoder\n",
    "\n",
    "from sklearn.preprocessing import LabelEncoder\n",
    "from sklearn.preprocessing import LabelEncoder"
   ]
  },
  {
   "cell_type": "code",
   "execution_count": 24,
   "metadata": {
    "colab": {},
    "colab_type": "code",
    "id": "bhsQcnbrVblj",
    "outputId": "36f5888f-09fd-4d92-de58-74041808aee2"
   },
   "outputs": [
    {
     "name": "stdout",
     "output_type": "stream",
     "text": [
      " 3 columns were label encoded.\n"
     ]
    }
   ],
   "source": [
    "# Create a label encoder object\n",
    "# le = LabelEncoder()\n",
    "# le_count = 0\n",
    "\n",
    "# # Iterate through the columns\n",
    "# for col in app_train:\n",
    "#     if app_train[col].dtype == 'object':\n",
    "#         # If 2 or fewer unique categories\n",
    "#         if len(list(app_train[col].unique())) <= 2:\n",
    "#             # Train on the training data\n",
    "#             le.fit(app_train[col])\n",
    "#             # Transform both training and testing data\n",
    "#             app_train[col] = le.transform(app_train[col])\n",
    "#             app_test[col] = le.transform(app_test[col])\n",
    "            \n",
    "#             # Keep track of how many columns were label encoded\n",
    "#             le_count += 1\n",
    "            \n",
    "# print('%d columns were label encoded.' % le_count)\n",
    "\n",
    "\n",
    "\n",
    "le = LabelEncoder()\n",
    "le_count = 0\n",
    "\n",
    "#Iterate through the columns\n",
    "for col in app_train:\n",
    "    if app_train[col].dtype == \"object\":\n",
    "        # If 2 or fewer unique categories\n",
    "        if len(list(app_train[col].unique())) <= 2:\n",
    "            # Train on the training data\n",
    "            le.fit(app_train[col])\n",
    "            # Transform both training and testing data\n",
    "            app_train[col] = le.transform(app_train[col])\n",
    "            app_test[col] = le.transform(app_test[col])\n",
    "            \n",
    "            \n",
    "            # Keep track of how many columns were label encoded\n",
    "            le_count += 1\n",
    "print( \" %d columns were label encoded.\"  %le_count)\n",
    "\n",
    "\n",
    "\n",
    "# le = LabelEncoder()\n",
    "# le_count = 0\n",
    "\n",
    "# for col in app_train:\n",
    "#     if app_train[col].dtype == \"object\":\n",
    "#         if len(list(app_train[col].unique()))) <= 2:\n",
    "#             le.fit(app_train[col])\n",
    "#             app_train[col] = le.transform(app_train[col])\n",
    "#             app_test[col] = le.transform(app_train[col])\n",
    "#             le_count += 1\n",
    "# print( \" %d columns were label encoded.\"  %le_count)"
   ]
  },
  {
   "cell_type": "markdown",
   "metadata": {
    "colab_type": "text",
    "id": "fZ14f-GpVbll"
   },
   "source": [
    "#### One Hot encoding\n",
    "pandas 中的 one hot encoding 非常方便，一行程式碼就搞定"
   ]
  },
  {
   "cell_type": "code",
   "execution_count": 18,
   "metadata": {
    "colab": {},
    "colab_type": "code",
    "id": "1O-M3EdDVblm",
    "outputId": "93ac010f-a46c-426e-a83b-64ca6a39a8db"
   },
   "outputs": [
    {
     "name": "stdout",
     "output_type": "stream",
     "text": [
      "0    0\n",
      "1    1\n",
      "2    0\n",
      "3    1\n",
      "4    0\n",
      "Name: CODE_GENDER_F, dtype: uint8\n",
      "0    1\n",
      "1    0\n",
      "2    1\n",
      "3    0\n",
      "4    1\n",
      "Name: CODE_GENDER_M, dtype: uint8\n",
      "0    1\n",
      "1    0\n",
      "2    1\n",
      "3    1\n",
      "4    1\n",
      "Name: NAME_EDUCATION_TYPE_Secondary / secondary special, dtype: uint8\n"
     ]
    }
   ],
   "source": [
    "app_train = pd.get_dummies(app_train)\n",
    "app_test = pd.get_dummies(app_test)\n",
    "\n",
    "print(app_train['CODE_GENDER_F'].head())\n",
    "print(app_train['CODE_GENDER_M'].head())\n",
    "print(app_train['NAME_EDUCATION_TYPE_Secondary / secondary special'].head())"
   ]
  },
  {
   "cell_type": "markdown",
   "metadata": {
    "colab_type": "text",
    "id": "PjD5fHUfVblp"
   },
   "source": [
    "可以觀察到原來的類別型欄位都轉為 0/1 了"
   ]
  },
  {
   "cell_type": "markdown",
   "metadata": {
    "colab": {},
    "colab_type": "code",
    "id": "d5IeEcPVVblq"
   },
   "source": [
    "## 作業\n",
    "將下列部分資料片段 sub_train 使用 One Hot encoding, 並觀察轉換前後的欄位數量 (使用 shape) 與欄位名稱 (使用 head) 變化"
   ]
  },
  {
   "cell_type": "code",
   "execution_count": 27,
   "metadata": {},
   "outputs": [
    {
     "name": "stdout",
     "output_type": "stream",
     "text": [
      "(307511, 1)\n"
     ]
    },
    {
     "data": {
      "text/html": [
       "<div>\n",
       "<style scoped>\n",
       "    .dataframe tbody tr th:only-of-type {\n",
       "        vertical-align: middle;\n",
       "    }\n",
       "\n",
       "    .dataframe tbody tr th {\n",
       "        vertical-align: top;\n",
       "    }\n",
       "\n",
       "    .dataframe thead th {\n",
       "        text-align: right;\n",
       "    }\n",
       "</style>\n",
       "<table border=\"1\" class=\"dataframe\">\n",
       "  <thead>\n",
       "    <tr style=\"text-align: right;\">\n",
       "      <th></th>\n",
       "      <th>WEEKDAY_APPR_PROCESS_START</th>\n",
       "    </tr>\n",
       "  </thead>\n",
       "  <tbody>\n",
       "    <tr>\n",
       "      <th>0</th>\n",
       "      <td>WEDNESDAY</td>\n",
       "    </tr>\n",
       "    <tr>\n",
       "      <th>1</th>\n",
       "      <td>MONDAY</td>\n",
       "    </tr>\n",
       "    <tr>\n",
       "      <th>2</th>\n",
       "      <td>MONDAY</td>\n",
       "    </tr>\n",
       "    <tr>\n",
       "      <th>3</th>\n",
       "      <td>WEDNESDAY</td>\n",
       "    </tr>\n",
       "    <tr>\n",
       "      <th>4</th>\n",
       "      <td>THURSDAY</td>\n",
       "    </tr>\n",
       "  </tbody>\n",
       "</table>\n",
       "</div>"
      ],
      "text/plain": [
       "  WEEKDAY_APPR_PROCESS_START\n",
       "0                  WEDNESDAY\n",
       "1                     MONDAY\n",
       "2                     MONDAY\n",
       "3                  WEDNESDAY\n",
       "4                   THURSDAY"
      ]
     },
     "execution_count": 27,
     "metadata": {},
     "output_type": "execute_result"
    }
   ],
   "source": [
    "app_train = pd.read_csv(f_app_train)\n",
    "# print(app_train['WEEKDAY_APPR_PROCESS_START'])\n",
    "sub_train = pd.DataFrame(app_train['WEEKDAY_APPR_PROCESS_START'])\n",
    "print(sub_train.shape)\n",
    "sub_train.head()"
   ]
  },
  {
   "cell_type": "code",
   "execution_count": 34,
   "metadata": {},
   "outputs": [
    {
     "name": "stdout",
     "output_type": "stream",
     "text": [
      "0    1\n",
      "1    0\n",
      "2    0\n",
      "3    1\n",
      "4    0\n",
      "Name: WEEKDAY_APPR_PROCESS_START_WEDNESDAY, dtype: uint8\n"
     ]
    }
   ],
   "source": [
    "\"\"\"\n",
    "Your Code Here\n",
    "\"\"\"\n",
    "\n",
    "# WW=pd.get_dummies(sub_train)\n",
    "# print(WW[\"WEEKDAY_APPR_PROCESS_START_MONDAY\"].head())\n",
    "\n",
    "WW=pd.get_dummies(sub_train)\n",
    "print(WW['WEEKDAY_APPR_PROCESS_START_WEDNESDAY'].head())"
   ]
  },
  {
   "cell_type": "code",
   "execution_count": 23,
   "metadata": {},
   "outputs": [],
   "source": [
    "df = pd.DataFrame({'A': ['a', 'b', 'a'], 'B': ['b', 'a', 'c'],\n",
    "                   'C': [1, 2, 3]})"
   ]
  },
  {
   "cell_type": "code",
   "execution_count": 24,
   "metadata": {},
   "outputs": [
    {
     "data": {
      "text/html": [
       "<div>\n",
       "<style scoped>\n",
       "    .dataframe tbody tr th:only-of-type {\n",
       "        vertical-align: middle;\n",
       "    }\n",
       "\n",
       "    .dataframe tbody tr th {\n",
       "        vertical-align: top;\n",
       "    }\n",
       "\n",
       "    .dataframe thead th {\n",
       "        text-align: right;\n",
       "    }\n",
       "</style>\n",
       "<table border=\"1\" class=\"dataframe\">\n",
       "  <thead>\n",
       "    <tr style=\"text-align: right;\">\n",
       "      <th></th>\n",
       "      <th>A</th>\n",
       "      <th>B</th>\n",
       "      <th>C</th>\n",
       "    </tr>\n",
       "  </thead>\n",
       "  <tbody>\n",
       "    <tr>\n",
       "      <th>0</th>\n",
       "      <td>a</td>\n",
       "      <td>b</td>\n",
       "      <td>1</td>\n",
       "    </tr>\n",
       "    <tr>\n",
       "      <th>1</th>\n",
       "      <td>b</td>\n",
       "      <td>a</td>\n",
       "      <td>2</td>\n",
       "    </tr>\n",
       "    <tr>\n",
       "      <th>2</th>\n",
       "      <td>a</td>\n",
       "      <td>c</td>\n",
       "      <td>3</td>\n",
       "    </tr>\n",
       "  </tbody>\n",
       "</table>\n",
       "</div>"
      ],
      "text/plain": [
       "   A  B  C\n",
       "0  a  b  1\n",
       "1  b  a  2\n",
       "2  a  c  3"
      ]
     },
     "execution_count": 24,
     "metadata": {},
     "output_type": "execute_result"
    }
   ],
   "source": [
    "df"
   ]
  },
  {
   "cell_type": "code",
   "execution_count": 25,
   "metadata": {},
   "outputs": [
    {
     "data": {
      "text/html": [
       "<div>\n",
       "<style scoped>\n",
       "    .dataframe tbody tr th:only-of-type {\n",
       "        vertical-align: middle;\n",
       "    }\n",
       "\n",
       "    .dataframe tbody tr th {\n",
       "        vertical-align: top;\n",
       "    }\n",
       "\n",
       "    .dataframe thead th {\n",
       "        text-align: right;\n",
       "    }\n",
       "</style>\n",
       "<table border=\"1\" class=\"dataframe\">\n",
       "  <thead>\n",
       "    <tr style=\"text-align: right;\">\n",
       "      <th></th>\n",
       "      <th>C</th>\n",
       "      <th>col1_a</th>\n",
       "      <th>col1_b</th>\n",
       "      <th>col2_a</th>\n",
       "      <th>col2_b</th>\n",
       "      <th>col2_c</th>\n",
       "    </tr>\n",
       "  </thead>\n",
       "  <tbody>\n",
       "    <tr>\n",
       "      <th>0</th>\n",
       "      <td>1</td>\n",
       "      <td>1</td>\n",
       "      <td>0</td>\n",
       "      <td>0</td>\n",
       "      <td>1</td>\n",
       "      <td>0</td>\n",
       "    </tr>\n",
       "    <tr>\n",
       "      <th>1</th>\n",
       "      <td>2</td>\n",
       "      <td>0</td>\n",
       "      <td>1</td>\n",
       "      <td>1</td>\n",
       "      <td>0</td>\n",
       "      <td>0</td>\n",
       "    </tr>\n",
       "    <tr>\n",
       "      <th>2</th>\n",
       "      <td>3</td>\n",
       "      <td>1</td>\n",
       "      <td>0</td>\n",
       "      <td>0</td>\n",
       "      <td>0</td>\n",
       "      <td>1</td>\n",
       "    </tr>\n",
       "  </tbody>\n",
       "</table>\n",
       "</div>"
      ],
      "text/plain": [
       "   C  col1_a  col1_b  col2_a  col2_b  col2_c\n",
       "0  1       1       0       0       1       0\n",
       "1  2       0       1       1       0       0\n",
       "2  3       1       0       0       0       1"
      ]
     },
     "execution_count": 25,
     "metadata": {},
     "output_type": "execute_result"
    }
   ],
   "source": [
    "# pd.get_dummies(df, prefix=['col1', 'col2'])\n",
    "pd.get_dummies(df,prefix=['col1','col2'])"
   ]
  },
  {
   "cell_type": "code",
   "execution_count": 26,
   "metadata": {
    "scrolled": false
   },
   "outputs": [
    {
     "name": "stdout",
     "output_type": "stream",
     "text": [
      "Help on class list in module builtins:\n",
      "\n",
      "class list(object)\n",
      " |  list(iterable=(), /)\n",
      " |  \n",
      " |  Built-in mutable sequence.\n",
      " |  \n",
      " |  If no argument is given, the constructor creates a new empty list.\n",
      " |  The argument must be an iterable if specified.\n",
      " |  \n",
      " |  Methods defined here:\n",
      " |  \n",
      " |  __add__(self, value, /)\n",
      " |      Return self+value.\n",
      " |  \n",
      " |  __contains__(self, key, /)\n",
      " |      Return key in self.\n",
      " |  \n",
      " |  __delitem__(self, key, /)\n",
      " |      Delete self[key].\n",
      " |  \n",
      " |  __eq__(self, value, /)\n",
      " |      Return self==value.\n",
      " |  \n",
      " |  __ge__(self, value, /)\n",
      " |      Return self>=value.\n",
      " |  \n",
      " |  __getattribute__(self, name, /)\n",
      " |      Return getattr(self, name).\n",
      " |  \n",
      " |  __getitem__(...)\n",
      " |      x.__getitem__(y) <==> x[y]\n",
      " |  \n",
      " |  __gt__(self, value, /)\n",
      " |      Return self>value.\n",
      " |  \n",
      " |  __iadd__(self, value, /)\n",
      " |      Implement self+=value.\n",
      " |  \n",
      " |  __imul__(self, value, /)\n",
      " |      Implement self*=value.\n",
      " |  \n",
      " |  __init__(self, /, *args, **kwargs)\n",
      " |      Initialize self.  See help(type(self)) for accurate signature.\n",
      " |  \n",
      " |  __iter__(self, /)\n",
      " |      Implement iter(self).\n",
      " |  \n",
      " |  __le__(self, value, /)\n",
      " |      Return self<=value.\n",
      " |  \n",
      " |  __len__(self, /)\n",
      " |      Return len(self).\n",
      " |  \n",
      " |  __lt__(self, value, /)\n",
      " |      Return self<value.\n",
      " |  \n",
      " |  __mul__(self, value, /)\n",
      " |      Return self*value.\n",
      " |  \n",
      " |  __ne__(self, value, /)\n",
      " |      Return self!=value.\n",
      " |  \n",
      " |  __repr__(self, /)\n",
      " |      Return repr(self).\n",
      " |  \n",
      " |  __reversed__(self, /)\n",
      " |      Return a reverse iterator over the list.\n",
      " |  \n",
      " |  __rmul__(self, value, /)\n",
      " |      Return value*self.\n",
      " |  \n",
      " |  __setitem__(self, key, value, /)\n",
      " |      Set self[key] to value.\n",
      " |  \n",
      " |  __sizeof__(self, /)\n",
      " |      Return the size of the list in memory, in bytes.\n",
      " |  \n",
      " |  append(self, object, /)\n",
      " |      Append object to the end of the list.\n",
      " |  \n",
      " |  clear(self, /)\n",
      " |      Remove all items from list.\n",
      " |  \n",
      " |  copy(self, /)\n",
      " |      Return a shallow copy of the list.\n",
      " |  \n",
      " |  count(self, value, /)\n",
      " |      Return number of occurrences of value.\n",
      " |  \n",
      " |  extend(self, iterable, /)\n",
      " |      Extend list by appending elements from the iterable.\n",
      " |  \n",
      " |  index(self, value, start=0, stop=9223372036854775807, /)\n",
      " |      Return first index of value.\n",
      " |      \n",
      " |      Raises ValueError if the value is not present.\n",
      " |  \n",
      " |  insert(self, index, object, /)\n",
      " |      Insert object before index.\n",
      " |  \n",
      " |  pop(self, index=-1, /)\n",
      " |      Remove and return item at index (default last).\n",
      " |      \n",
      " |      Raises IndexError if list is empty or index is out of range.\n",
      " |  \n",
      " |  remove(self, value, /)\n",
      " |      Remove first occurrence of value.\n",
      " |      \n",
      " |      Raises ValueError if the value is not present.\n",
      " |  \n",
      " |  reverse(self, /)\n",
      " |      Reverse *IN PLACE*.\n",
      " |  \n",
      " |  sort(self, /, *, key=None, reverse=False)\n",
      " |      Sort the list in ascending order and return None.\n",
      " |      \n",
      " |      The sort is in-place (i.e. the list itself is modified) and stable (i.e. the\n",
      " |      order of two equal elements is maintained).\n",
      " |      \n",
      " |      If a key function is given, apply it once to each list item and sort them,\n",
      " |      ascending or descending, according to their function values.\n",
      " |      \n",
      " |      The reverse flag can be set to sort in descending order.\n",
      " |  \n",
      " |  ----------------------------------------------------------------------\n",
      " |  Static methods defined here:\n",
      " |  \n",
      " |  __new__(*args, **kwargs) from builtins.type\n",
      " |      Create and return a new object.  See help(type) for accurate signature.\n",
      " |  \n",
      " |  ----------------------------------------------------------------------\n",
      " |  Data and other attributes defined here:\n",
      " |  \n",
      " |  __hash__ = None\n",
      "\n"
     ]
    }
   ],
   "source": [
    "help(list)"
   ]
  },
  {
   "cell_type": "code",
   "execution_count": 31,
   "metadata": {},
   "outputs": [
    {
     "data": {
      "text/plain": [
       "0    a\n",
       "1    b\n",
       "2    c\n",
       "3    a\n",
       "4    a\n",
       "dtype: object"
      ]
     },
     "execution_count": 31,
     "metadata": {},
     "output_type": "execute_result"
    }
   ],
   "source": [
    "# pd.Series(list('abcaa')\n",
    "pd.Series(list('abcaa'))"
   ]
  },
  {
   "cell_type": "code",
   "execution_count": 32,
   "metadata": {},
   "outputs": [
    {
     "data": {
      "text/html": [
       "<div>\n",
       "<style scoped>\n",
       "    .dataframe tbody tr th:only-of-type {\n",
       "        vertical-align: middle;\n",
       "    }\n",
       "\n",
       "    .dataframe tbody tr th {\n",
       "        vertical-align: top;\n",
       "    }\n",
       "\n",
       "    .dataframe thead th {\n",
       "        text-align: right;\n",
       "    }\n",
       "</style>\n",
       "<table border=\"1\" class=\"dataframe\">\n",
       "  <thead>\n",
       "    <tr style=\"text-align: right;\">\n",
       "      <th></th>\n",
       "      <th>a</th>\n",
       "      <th>b</th>\n",
       "      <th>c</th>\n",
       "    </tr>\n",
       "  </thead>\n",
       "  <tbody>\n",
       "    <tr>\n",
       "      <th>0</th>\n",
       "      <td>1</td>\n",
       "      <td>0</td>\n",
       "      <td>0</td>\n",
       "    </tr>\n",
       "    <tr>\n",
       "      <th>1</th>\n",
       "      <td>0</td>\n",
       "      <td>1</td>\n",
       "      <td>0</td>\n",
       "    </tr>\n",
       "    <tr>\n",
       "      <th>2</th>\n",
       "      <td>0</td>\n",
       "      <td>0</td>\n",
       "      <td>1</td>\n",
       "    </tr>\n",
       "    <tr>\n",
       "      <th>3</th>\n",
       "      <td>1</td>\n",
       "      <td>0</td>\n",
       "      <td>0</td>\n",
       "    </tr>\n",
       "    <tr>\n",
       "      <th>4</th>\n",
       "      <td>1</td>\n",
       "      <td>0</td>\n",
       "      <td>0</td>\n",
       "    </tr>\n",
       "  </tbody>\n",
       "</table>\n",
       "</div>"
      ],
      "text/plain": [
       "   a  b  c\n",
       "0  1  0  0\n",
       "1  0  1  0\n",
       "2  0  0  1\n",
       "3  1  0  0\n",
       "4  1  0  0"
      ]
     },
     "execution_count": 32,
     "metadata": {},
     "output_type": "execute_result"
    }
   ],
   "source": [
    "pd.get_dummies(pd.Series(list('abcaa')))"
   ]
  },
  {
   "cell_type": "code",
   "execution_count": 28,
   "metadata": {},
   "outputs": [
    {
     "data": {
      "text/plain": [
       "['e', 'e', 'e']"
      ]
     },
     "execution_count": 28,
     "metadata": {},
     "output_type": "execute_result"
    }
   ],
   "source": [
    "list('eee')"
   ]
  },
  {
   "cell_type": "code",
   "execution_count": 29,
   "metadata": {},
   "outputs": [
    {
     "data": {
      "text/plain": [
       "0    e\n",
       "1    e\n",
       "2    e\n",
       "dtype: object"
      ]
     },
     "execution_count": 29,
     "metadata": {},
     "output_type": "execute_result"
    }
   ],
   "source": [
    "pd.Series(list('eee'))"
   ]
  },
  {
   "cell_type": "code",
   "execution_count": null,
   "metadata": {},
   "outputs": [],
   "source": []
  }
 ],
 "metadata": {
  "colab": {
   "name": "Day_004_column_data_type.ipynb",
   "provenance": [],
   "version": "0.3.2"
  },
  "kernelspec": {
   "display_name": "Python 3",
   "language": "python",
   "name": "python3"
  },
  "language_info": {
   "codemirror_mode": {
    "name": "ipython",
    "version": 3
   },
   "file_extension": ".py",
   "mimetype": "text/x-python",
   "name": "python",
   "nbconvert_exporter": "python",
   "pygments_lexer": "ipython3",
   "version": "3.8.3"
  }
 },
 "nbformat": 4,
 "nbformat_minor": 1
}
