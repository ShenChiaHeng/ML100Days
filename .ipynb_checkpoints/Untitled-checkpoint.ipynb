{
 "cells": [
  {
   "cell_type": "code",
   "execution_count": 5,
   "metadata": {},
   "outputs": [
    {
     "name": "stdout",
     "output_type": "stream",
     "text": [
      "Collecting gdal\n",
      "  Using cached GDAL-3.1.3.tar.gz (593 kB)\n",
      "Building wheels for collected packages: gdal\n",
      "  Building wheel for gdal (setup.py): started\n",
      "  Building wheel for gdal (setup.py): finished with status 'error'\n",
      "  Running setup.py clean for gdal\n",
      "Failed to build gdal\n",
      "Installing collected packages: gdal\n",
      "    Running setup.py install for gdal: started\n",
      "    Running setup.py install for gdal: finished with status 'error'\n",
      "Note: you may need to restart the kernel to use updated packages.\n"
     ]
    },
    {
     "name": "stderr",
     "output_type": "stream",
     "text": [
      "  ERROR: Command errored out with exit status 1:\n",
      "   command: 'C:\\Users\\user\\anaconda3\\python.exe' -u -c 'import sys, setuptools, tokenize; sys.argv[0] = '\"'\"'C:\\\\Users\\\\user\\\\AppData\\\\Local\\\\Temp\\\\pip-install-i1vgvi9b\\\\gdal\\\\setup.py'\"'\"'; __file__='\"'\"'C:\\\\Users\\\\user\\\\AppData\\\\Local\\\\Temp\\\\pip-install-i1vgvi9b\\\\gdal\\\\setup.py'\"'\"';f=getattr(tokenize, '\"'\"'open'\"'\"', open)(__file__);code=f.read().replace('\"'\"'\\r\\n'\"'\"', '\"'\"'\\n'\"'\"');f.close();exec(compile(code, __file__, '\"'\"'exec'\"'\"'))' bdist_wheel -d 'C:\\Users\\user\\AppData\\Local\\Temp\\pip-wheel-mmdjbwyx'\n",
      "       cwd: C:\\Users\\user\\AppData\\Local\\Temp\\pip-install-i1vgvi9b\\gdal\\\n",
      "  Complete output (33 lines):\n",
      "  running bdist_wheel\n",
      "  running build\n",
      "  running build_py\n",
      "  creating build\n",
      "  creating build\\lib.win-amd64-3.8\n",
      "  copying gdal.py -> build\\lib.win-amd64-3.8\n",
      "  copying ogr.py -> build\\lib.win-amd64-3.8\n",
      "  copying osr.py -> build\\lib.win-amd64-3.8\n",
      "  copying gdalconst.py -> build\\lib.win-amd64-3.8\n",
      "  copying gdalnumeric.py -> build\\lib.win-amd64-3.8\n",
      "  creating build\\lib.win-amd64-3.8\\osgeo\n",
      "  copying osgeo\\gdal.py -> build\\lib.win-amd64-3.8\\osgeo\n",
      "  copying osgeo\\gdalconst.py -> build\\lib.win-amd64-3.8\\osgeo\n",
      "  copying osgeo\\gdalnumeric.py -> build\\lib.win-amd64-3.8\\osgeo\n",
      "  copying osgeo\\gdal_array.py -> build\\lib.win-amd64-3.8\\osgeo\n",
      "  copying osgeo\\gnm.py -> build\\lib.win-amd64-3.8\\osgeo\n",
      "  copying osgeo\\ogr.py -> build\\lib.win-amd64-3.8\\osgeo\n",
      "  copying osgeo\\osr.py -> build\\lib.win-amd64-3.8\\osgeo\n",
      "  copying osgeo\\__init__.py -> build\\lib.win-amd64-3.8\\osgeo\n",
      "  C:\\Users\\user\\anaconda3\\lib\\site-packages\\setuptools\\lib2to3_ex.py:39: SetuptoolsDeprecationWarning: 2to3 support is deprecated. If the project still requires Python 2 support, please migrate to a single-codebase solution or employ an independent conversion process.\n",
      "    warnings.warn(\n",
      "  Fixing build\\lib.win-amd64-3.8\\gdal.py build\\lib.win-amd64-3.8\\ogr.py build\\lib.win-amd64-3.8\\osr.py build\\lib.win-amd64-3.8\\gdalconst.py build\\lib.win-amd64-3.8\\gdalnumeric.py build\\lib.win-amd64-3.8\\osgeo\\gdal.py build\\lib.win-amd64-3.8\\osgeo\\gdalconst.py build\\lib.win-amd64-3.8\\osgeo\\gdalnumeric.py build\\lib.win-amd64-3.8\\osgeo\\gdal_array.py build\\lib.win-amd64-3.8\\osgeo\\gnm.py build\\lib.win-amd64-3.8\\osgeo\\ogr.py build\\lib.win-amd64-3.8\\osgeo\\osr.py build\\lib.win-amd64-3.8\\osgeo\\__init__.py\n",
      "  Skipping optional fixer: ws_comma\n",
      "  Fixing build\\lib.win-amd64-3.8\\gdal.py build\\lib.win-amd64-3.8\\ogr.py build\\lib.win-amd64-3.8\\osr.py build\\lib.win-amd64-3.8\\gdalconst.py build\\lib.win-amd64-3.8\\gdalnumeric.py build\\lib.win-amd64-3.8\\osgeo\\gdal.py build\\lib.win-amd64-3.8\\osgeo\\gdalconst.py build\\lib.win-amd64-3.8\\osgeo\\gdalnumeric.py build\\lib.win-amd64-3.8\\osgeo\\gdal_array.py build\\lib.win-amd64-3.8\\osgeo\\gnm.py build\\lib.win-amd64-3.8\\osgeo\\ogr.py build\\lib.win-amd64-3.8\\osgeo\\osr.py build\\lib.win-amd64-3.8\\osgeo\\__init__.py\n",
      "  Skipping optional fixer: ws_comma\n",
      "  running build_ext\n",
      "  building 'osgeo._gdal' extension\n",
      "  building 'osgeo._gdalconst' extension\n",
      "  building 'osgeo._osr' extension\n",
      "  building 'osgeo._ogr' extension\n",
      "  building 'osgeo._gnm' extension\n",
      "  building 'osgeo._gdal_array' extension\n",
      "  error: Microsoft Visual C++ 14.0 is required. Get it with \"Build Tools for Visual Studio\": https://visualstudio.microsoft.com/downloads/\n",
      "  ----------------------------------------\n",
      "  ERROR: Failed building wheel for gdal\n",
      "    ERROR: Command errored out with exit status 1:\n",
      "     command: 'C:\\Users\\user\\anaconda3\\python.exe' -u -c 'import sys, setuptools, tokenize; sys.argv[0] = '\"'\"'C:\\\\Users\\\\user\\\\AppData\\\\Local\\\\Temp\\\\pip-install-i1vgvi9b\\\\gdal\\\\setup.py'\"'\"'; __file__='\"'\"'C:\\\\Users\\\\user\\\\AppData\\\\Local\\\\Temp\\\\pip-install-i1vgvi9b\\\\gdal\\\\setup.py'\"'\"';f=getattr(tokenize, '\"'\"'open'\"'\"', open)(__file__);code=f.read().replace('\"'\"'\\r\\n'\"'\"', '\"'\"'\\n'\"'\"');f.close();exec(compile(code, __file__, '\"'\"'exec'\"'\"'))' install --record 'C:\\Users\\user\\AppData\\Local\\Temp\\pip-record-7lr74d3w\\install-record.txt' --single-version-externally-managed --compile --install-headers 'C:\\Users\\user\\anaconda3\\Include\\gdal'\n",
      "         cwd: C:\\Users\\user\\AppData\\Local\\Temp\\pip-install-i1vgvi9b\\gdal\\\n",
      "    Complete output (33 lines):\n",
      "    running install\n",
      "    running build\n",
      "    running build_py\n",
      "    creating build\n",
      "    creating build\\lib.win-amd64-3.8\n",
      "    copying gdal.py -> build\\lib.win-amd64-3.8\n",
      "    copying ogr.py -> build\\lib.win-amd64-3.8\n",
      "    copying osr.py -> build\\lib.win-amd64-3.8\n",
      "    copying gdalconst.py -> build\\lib.win-amd64-3.8\n",
      "    copying gdalnumeric.py -> build\\lib.win-amd64-3.8\n",
      "    creating build\\lib.win-amd64-3.8\\osgeo\n",
      "    copying osgeo\\gdal.py -> build\\lib.win-amd64-3.8\\osgeo\n",
      "    copying osgeo\\gdalconst.py -> build\\lib.win-amd64-3.8\\osgeo\n",
      "    copying osgeo\\gdalnumeric.py -> build\\lib.win-amd64-3.8\\osgeo\n",
      "    copying osgeo\\gdal_array.py -> build\\lib.win-amd64-3.8\\osgeo\n",
      "    copying osgeo\\gnm.py -> build\\lib.win-amd64-3.8\\osgeo\n",
      "    copying osgeo\\ogr.py -> build\\lib.win-amd64-3.8\\osgeo\n",
      "    copying osgeo\\osr.py -> build\\lib.win-amd64-3.8\\osgeo\n",
      "    copying osgeo\\__init__.py -> build\\lib.win-amd64-3.8\\osgeo\n",
      "    C:\\Users\\user\\anaconda3\\lib\\site-packages\\setuptools\\lib2to3_ex.py:39: SetuptoolsDeprecationWarning: 2to3 support is deprecated. If the project still requires Python 2 support, please migrate to a single-codebase solution or employ an independent conversion process.\n",
      "      warnings.warn(\n",
      "    Fixing build\\lib.win-amd64-3.8\\gdal.py build\\lib.win-amd64-3.8\\ogr.py build\\lib.win-amd64-3.8\\osr.py build\\lib.win-amd64-3.8\\gdalconst.py build\\lib.win-amd64-3.8\\gdalnumeric.py build\\lib.win-amd64-3.8\\osgeo\\gdal.py build\\lib.win-amd64-3.8\\osgeo\\gdalconst.py build\\lib.win-amd64-3.8\\osgeo\\gdalnumeric.py build\\lib.win-amd64-3.8\\osgeo\\gdal_array.py build\\lib.win-amd64-3.8\\osgeo\\gnm.py build\\lib.win-amd64-3.8\\osgeo\\ogr.py build\\lib.win-amd64-3.8\\osgeo\\osr.py build\\lib.win-amd64-3.8\\osgeo\\__init__.py\n",
      "    Skipping optional fixer: ws_comma\n",
      "    Fixing build\\lib.win-amd64-3.8\\gdal.py build\\lib.win-amd64-3.8\\ogr.py build\\lib.win-amd64-3.8\\osr.py build\\lib.win-amd64-3.8\\gdalconst.py build\\lib.win-amd64-3.8\\gdalnumeric.py build\\lib.win-amd64-3.8\\osgeo\\gdal.py build\\lib.win-amd64-3.8\\osgeo\\gdalconst.py build\\lib.win-amd64-3.8\\osgeo\\gdalnumeric.py build\\lib.win-amd64-3.8\\osgeo\\gdal_array.py build\\lib.win-amd64-3.8\\osgeo\\gnm.py build\\lib.win-amd64-3.8\\osgeo\\ogr.py build\\lib.win-amd64-3.8\\osgeo\\osr.py build\\lib.win-amd64-3.8\\osgeo\\__init__.py\n",
      "    Skipping optional fixer: ws_comma\n",
      "    running build_ext\n",
      "    building 'osgeo._gdal' extension\n",
      "    building 'osgeo._gdalconst' extension\n",
      "    building 'osgeo._ogr' extension\n",
      "    building 'osgeo._osr' extension\n",
      "    building 'osgeo._gnm' extension\n",
      "    building 'osgeo._gdal_array' extension\n",
      "    error: Microsoft Visual C++ 14.0 is required. Get it with \"Build Tools for Visual Studio\": https://visualstudio.microsoft.com/downloads/\n",
      "    ----------------------------------------\n",
      "ERROR: Command errored out with exit status 1: 'C:\\Users\\user\\anaconda3\\python.exe' -u -c 'import sys, setuptools, tokenize; sys.argv[0] = '\"'\"'C:\\\\Users\\\\user\\\\AppData\\\\Local\\\\Temp\\\\pip-install-i1vgvi9b\\\\gdal\\\\setup.py'\"'\"'; __file__='\"'\"'C:\\\\Users\\\\user\\\\AppData\\\\Local\\\\Temp\\\\pip-install-i1vgvi9b\\\\gdal\\\\setup.py'\"'\"';f=getattr(tokenize, '\"'\"'open'\"'\"', open)(__file__);code=f.read().replace('\"'\"'\\r\\n'\"'\"', '\"'\"'\\n'\"'\"');f.close();exec(compile(code, __file__, '\"'\"'exec'\"'\"'))' install --record 'C:\\Users\\user\\AppData\\Local\\Temp\\pip-record-7lr74d3w\\install-record.txt' --single-version-externally-managed --compile --install-headers 'C:\\Users\\user\\anaconda3\\Include\\gdal' Check the logs for full command output.\n"
     ]
    }
   ],
   "source": [
    "pip install gdal"
   ]
  },
  {
   "cell_type": "code",
   "execution_count": 6,
   "metadata": {},
   "outputs": [
    {
     "ename": "ModuleNotFoundError",
     "evalue": "No module named 'gdal'",
     "output_type": "error",
     "traceback": [
      "\u001b[1;31m---------------------------------------------------------------------------\u001b[0m",
      "\u001b[1;31mModuleNotFoundError\u001b[0m                       Traceback (most recent call last)",
      "\u001b[1;32m<ipython-input-6-ac4fba1a93b2>\u001b[0m in \u001b[0;36m<module>\u001b[1;34m\u001b[0m\n\u001b[1;32m----> 1\u001b[1;33m \u001b[1;32mimport\u001b[0m \u001b[0mgdal\u001b[0m \u001b[1;32mas\u001b[0m \u001b[0mgeo\u001b[0m\u001b[1;33m\u001b[0m\u001b[1;33m\u001b[0m\u001b[0m\n\u001b[0m",
      "\u001b[1;31mModuleNotFoundError\u001b[0m: No module named 'gdal'"
     ]
    }
   ],
   "source": [
    "import gdal as geo"
   ]
  },
  {
   "cell_type": "code",
   "execution_count": null,
   "metadata": {},
   "outputs": [],
   "source": [
    "geo.open()"
   ]
  }
 ],
 "metadata": {
  "kernelspec": {
   "display_name": "Python 3",
   "language": "python",
   "name": "python3"
  },
  "language_info": {
   "codemirror_mode": {
    "name": "ipython",
    "version": 3
   },
   "file_extension": ".py",
   "mimetype": "text/x-python",
   "name": "python",
   "nbconvert_exporter": "python",
   "pygments_lexer": "ipython3",
   "version": "3.8.3"
  }
 },
 "nbformat": 4,
 "nbformat_minor": 4
}
